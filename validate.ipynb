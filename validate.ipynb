{
 "cells": [
  {
   "cell_type": "code",
   "execution_count": 2,
   "metadata": {},
   "outputs": [
    {
     "name": "stdout",
     "output_type": "stream",
     "text": [
      "Inferencing...\n"
     ]
    },
    {
     "name": "stderr",
     "output_type": "stream",
     "text": [
      "  0%|          | 0/602 [00:00<?, ?it/s]c:\\Users\\ADMIN\\AppData\\Local\\Programs\\Python\\Python310\\lib\\site-packages\\torch\\nn\\modules\\container.py:204: UserWarning: Implicit dimension choice for softmax has been deprecated. Change the call to include dim=X as an argument.\n",
      "  input = module(input)\n",
      "100%|██████████| 602/602 [01:57<00:00,  5.14it/s]\n"
     ]
    },
    {
     "name": "stdout",
     "output_type": "stream",
     "text": [
      "tensor([[1769,   48],\n",
      "        [  27,  564]], device='cuda:0')\n",
      "Best threshold: 0.6332998871803284\n",
      "APCER: 0.026417171582579613\n",
      "BPCER 0.04568528011441231\n",
      "ACER 0.036051224917173386\n"
     ]
    },
    {
     "data": {
      "image/png": "[encoded data removed]",
      "text/plain": [
       "<Figure size 432x288 with 1 Axes>"
      ]
     },
     "metadata": {
      "needs_background": "light"
     },
     "output_type": "display_data"
    }
   ],
   "source": [
    "import torch\n",
    "import torch.nn.functional as F\n",
    "import numpy as np\n",
    "from model.C_CDN import C_CDN,DC_CDN\n",
    "from model.CDCN import CDCN, SE_CDCN, ATT_CDCN, SATT_CDCN, DATT_CDCN, BATT_CDCN, BSATT_CDCN\n",
    "from model.Finetune import Finetune_model, Finetune_modelv2, WrapperClassifier\n",
    "from torch.utils.data import DataLoader\n",
    "from model.utils import CSDataset, CFASD_ZaloDataset, ZaloDataset, NUAADataset, StandardDataset, CFASDDataset\n",
    "from torchmetrics.functional.classification import binary_confusion_matrix\n",
    "from torchmetrics.functional.classification import binary_roc\n",
    "from tqdm import tqdm\n",
    "import matplotlib.pyplot as plt\n",
    "from model import pl_model\n",
    "\n",
    "torch.manual_seed(42)\n",
    "\n",
    "\n",
    "\n",
    "\n",
    "# val_model = pl_model.load_from_checkpoint('checkpoints/checkpoint_bsatt_cdcn_best.ckpt',model = BSATT_CDCN(theta= 0.7)).cuda()\n",
    "# val_model = pl_model.load_from_checkpoint('checkpoints/checkpoint_datt_cdcn_ca_sa_last_cls_best.ckpt',model = DATT_CDCN(theta= 0.7,se = True, sa = True, pos= 'last')).cuda()\n",
    "# val_model = pl_model.load_from_checkpoint('checkpoints/checkpoint_batt_cdcn_best.ckpt',model = BATT_CDCN(theta= 0.7)).cuda()\n",
    "\n",
    "\n",
    "# val_model = pl_model.load_from_checkpoint('checkpoints/checkpoint_att_cdcn_ca_sa_last_cls_best.ckpt',model = ATT_CDCN(theta= 0.7,se = True, sa = True, pos= 'last')).cuda()\n",
    "# val_model = pl_model.load_from_checkpoint('checkpoints/checkpoint_att_cdcn_best.ckpt',model = ATT_CDCN(theta= 0.7,se = False, sa = False, pos= 'last')).cuda()\n",
    "\n",
    "# val_model = Finetune_model(depth_model= ATT_CDCN(se= True,sa= True), depth_weights= 'checkpoints/checkpoint_att_cdcn_se_sa_cfas.pth',cls_weights= 'checkpoints/checkpoint_cls_sm.pth').cuda()\n",
    "# val_model = Finetune_model(depth_model= CDCN(theta= 0.7), depth_weights= 'checkpoints/checkpoint_cdcn_cfas.pth',cls_weights= 'checkpoints/checkpoint_cls_sm.pth').cuda()\n",
    "\n",
    "val_model = Finetune_model(depth_model= CDCN(theta= 0), depth_weights= 'checkpoints/checkpoint_depthnet_cfas.pth',cls_weights= 'checkpoints/checkpoint_cls_sm.pth').cuda()\n",
    "\n",
    "sampler = None\n",
    "\n",
    "\n",
    "pred = torch.Tensor().cuda()\n",
    "target = torch.Tensor().cuda()\n",
    "used_dataset = CFASDDataset(root_dir='data/processed/test_img', mode= 'val')\n",
    "\n",
    "\n",
    "# print(\"Calculating class distribution...\")\n",
    "# cls_dist = np.mean([sample[2] for sample in tqdm(used_dataset)])\n",
    "\n",
    "# print(\"Assigning weight to samples...\")\n",
    "# weight_tensor = torch.Tensor([ (1-cls_dist) if used_dataset[i][2] == 1 else cls_dist for i in tqdm(range(used_dataset.__len__())) ])\n",
    "# sampler = torch.utils.data.WeightedRandomSampler(weight_tensor,int(used_dataset.__len__()*1), replacement=True)\n",
    "\n",
    "val_model.eval()\n",
    "# val_model.net.eval()\n",
    "val_loader = DataLoader(used_dataset, sampler= sampler, batch_size = 4, shuffle= False)\n",
    "\n",
    "print(\"Inferencing...\")\n",
    "\n",
    "\n",
    "with torch.no_grad():\n",
    "    for idx, batch in enumerate(tqdm(val_loader)):\n",
    "        sample, spoof_label = batch[0].float().cuda(), batch[2].float().cuda()\n",
    "        spoof_label = F.one_hot(spoof_label.to(torch.int64),2).float()\n",
    "        # print(val_model(sample)[1])\n",
    "        pred = torch.cat([pred, (val_model(sample)[1].T)[1]], dim = 0)\n",
    "        \n",
    "        target = torch.cat([target, (spoof_label.T)[1]], dim = 0)\n",
    "\n",
    "\n",
    "roc = binary_roc(pred, target, thresholds = None)\n",
    "fpr, tpr, threshold = roc[0].cpu(), roc[1].cpu(), roc[2].cpu()\n",
    "\n",
    "\n",
    "\n",
    "best_threshold = threshold[np.argmin((((1 - tpr)+fpr)/2).numpy())]\n",
    "\n",
    "confusion_matrix = binary_confusion_matrix(pred, target, threshold= best_threshold.item())\n",
    "# confusion_matrix = binary_confusion_matrix(pred, target, threshold= .5)\n",
    "\n",
    "print(confusion_matrix)\n",
    "\n",
    "tn, fp, fn, tp = confusion_matrix[0,0], confusion_matrix[0,1], confusion_matrix[1,0], confusion_matrix[1,1]\n",
    "\n",
    "apcer = fp/(tn+fp)\n",
    "bpcer = fn/(tp+fn)\n",
    "acer= (apcer+bpcer)/2\n",
    "print(\"Best threshold:\",best_threshold.item())\n",
    "print(\"APCER:\",apcer.item())\n",
    "print(\"BPCER\",bpcer.item())\n",
    "print(\"ACER\",acer.item())\n",
    "\n",
    "\n",
    "\n",
    "\n",
    "plt.plot(fpr,fpr, 'r--')\n",
    "plt.plot(fpr,tpr)\n",
    "plt.title('ROC curve')\n",
    "plt.show()"
   ]
  },
  {
   "cell_type": "code",
   "execution_count": 3,
   "metadata": {},
   "outputs": [],
   "source": [
    "depthnet_fpr, depthnet_tpr = fpr.numpy(),tpr.numpy()\n",
    "\n",
    "# cdcn_fpr, cdcn_tpr = fpr.numpy(),tpr.numpy()\n",
    "# cls_cdcn_fpr,cls_cdcn_tpr = fpr.numpy(),tpr.numpy()\n",
    "# att_cdcn_fpr, att_cdcn_tpr = fpr.numpy(),tpr.numpy()\n",
    "# datt_cdcn_fpr, datt_cdcn_tpr = fpr.numpy(),tpr.numpy()\n",
    "# batt_cdcn_fpr, batt_cdcn_tpr = fpr.numpy(),tpr.numpy()\n",
    "# bsatt_cdcn_fpr, bsatt_cdcn_tpr = fpr.numpy(),tpr.numpy()"
   ]
  },
  {
   "cell_type": "code",
   "execution_count": 4,
   "metadata": {},
   "outputs": [
    {
     "data": {
      "text/plain": [
       "<matplotlib.legend.Legend at 0x2803338ab60>"
      ]
     },
     "execution_count": 4,
     "metadata": {},
     "output_type": "execute_result"
    },
    {
     "data": {
      "image/png": "[encoded data removed]",
      "text/plain": [
       "<Figure size 1152x864 with 1 Axes>"
      ]
     },
     "metadata": {
      "needs_background": "light"
     },
     "output_type": "display_data"
    }
   ],
   "source": [
    "plt.figure(figsize = (16,12))\n",
    "plt.plot(depthnet_fpr, depthnet_tpr, label = 'DepthNet')\n",
    "# plt.plot(cdcn_fpr, cdcn_tpr, label = 'CDCN')\n",
    "\n",
    "# plt.plot(cls_cdcn_fpr, cls_cdcn_tpr, label = 'CLS_CDCN')\n",
    "\n",
    "# plt.plot(att_cdcn_fpr, att_cdcn_tpr, label = 'CATT_CDCN')\n",
    "# plt.plot(datt_cdcn_fpr, datt_cdcn_tpr, label = 'DATT_CDCN')\n",
    "# plt.plot(batt_cdcn_fpr, batt_cdcn_tpr, label = 'BATT_CDCN')\n",
    "# plt.plot(bsatt_cdcn_fpr, bsatt_cdcn_tpr, label = 'SATT_CDCN')\n",
    "plt.legend(fontsize = 24)"
   ]
  },
  {
   "cell_type": "code",
   "execution_count": 51,
   "metadata": {},
   "outputs": [
    {
     "name": "stdout",
     "output_type": "stream",
     "text": [
      "tensor(0.9978)\n"
     ]
    },
    {
     "data": {
      "text/plain": [
       "0.19688699"
      ]
     },
     "execution_count": 51,
     "metadata": {},
     "output_type": "execute_result"
    }
   ],
   "source": [
    "tpr = bsatt_cdcn_tpr\n",
    "fpr = bsatt_cdcn_fpr\n",
    "\n",
    "\n",
    "print(threshold[np.argmin((((1 - tpr)+fpr)/2))])\n",
    "\n",
    "np.min((((1 - tpr)+fpr)/2))"
   ]
  },
  {
   "cell_type": "code",
   "execution_count": 9,
   "metadata": {},
   "outputs": [
    {
     "data": {
      "text/plain": [
       "0.9955822"
      ]
     },
     "execution_count": 9,
     "metadata": {},
     "output_type": "execute_result"
    }
   ],
   "source": [
    "def get_once_diff(arr):\n",
    "    X = np.asarray(arr)[1:]\n",
    "    X_lag = np.roll(arr,1)[1:]\n",
    "    return X-X_lag\n",
    "\n",
    "np.sum(get_once_diff(depthnet_fpr)*(np.asarray(depthnet_tpr)[1:]+np.asarray(depthnet_tpr)[:-1])/2)"
   ]
  },
  {
   "cell_type": "code",
   "execution_count": 11,
   "metadata": {},
   "outputs": [
    {
     "data": {
      "text/plain": [
       "0.9323181"
      ]
     },
     "execution_count": 11,
     "metadata": {},
     "output_type": "execute_result"
    }
   ],
   "source": [
    "eps = 1e-2\n",
    "\n",
    "depthnet_tpr[np.max([i for i,x in enumerate(depthnet_fpr<= eps) if x])]  "
   ]
  }
 ],
 "metadata": {
  "kernelspec": {
   "display_name": "Python 3",
   "language": "python",
   "name": "python3"
  },
  "language_info": {
   "codemirror_mode": {
    "name": "ipython",
    "version": 3
   },
   "file_extension": ".py",
   "mimetype": "text/x-python",
   "name": "python",
   "nbconvert_exporter": "python",
   "pygments_lexer": "ipython3",
   "version": "3.10.4"
  },
  "orig_nbformat": 4,
  "vscode": {
   "interpreter": {
    "hash": "31671a60cee805c34c73116577b485118ff3a75c458d3004d49632c19702ac60"
   }
  }
 },
 "nbformat": 4,
 "nbformat_minor": 2
}
